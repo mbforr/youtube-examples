{
 "cells": [
  {
   "cell_type": "markdown",
   "id": "d3bdcb5c-d352-476c-9892-8c6bd28d1c5e",
   "metadata": {},
   "source": [
    "# First, explore possabilities with OpenAI and Agent based LLM"
   ]
  },
  {
   "cell_type": "markdown",
   "id": "ba4deba5-45fb-4556-9462-2aba74653852",
   "metadata": {
    "jp-MarkdownHeadingCollapsed": true
   },
   "source": [
    "## Installs and imports"
   ]
  },
  {
   "cell_type": "code",
   "execution_count": null,
   "id": "f329541f-41b3-4cbe-aecf-868a6809f09a",
   "metadata": {},
   "outputs": [],
   "source": [
    "!pip install langchain -q"
   ]
  },
  {
   "cell_type": "code",
   "execution_count": null,
   "id": "31ce100f-fdd6-4a93-8045-aa26c5186cdc",
   "metadata": {},
   "outputs": [],
   "source": [
    "!pip install openai -q"
   ]
  },
  {
   "cell_type": "code",
   "execution_count": null,
   "id": "1b3075ab-581d-4ca2-923b-4008f2f6db16",
   "metadata": {},
   "outputs": [],
   "source": [
    "import os\n",
    "\n",
    "os.environ[\"OPENAI_API_KEY\"] = ''"
   ]
  },
  {
   "cell_type": "code",
   "execution_count": null,
   "id": "1b697475-04f8-43aa-9dc8-1526e285d416",
   "metadata": {},
   "outputs": [],
   "source": [
    "from langchain.agents import create_sql_agent\n",
    "from langchain.agents.agent_toolkits import SQLDatabaseToolkit\n",
    "from langchain.sql_database import SQLDatabase\n",
    "from langchain.agents import AgentExecutor\n",
    "from langchain.agents.agent_types import AgentType\n",
    "from langchain import HuggingFaceHub, SQLDatabaseChain, OpenAI\n",
    "from langchain import PromptTemplate, LLMChain"
   ]
  },
  {
   "cell_type": "code",
   "execution_count": null,
   "id": "15700575-e00b-47e1-beaa-110cdf8201b0",
   "metadata": {},
   "outputs": [],
   "source": [
    "!pip install duckdb==0.8.0"
   ]
  },
  {
   "cell_type": "code",
   "execution_count": null,
   "id": "6672114a-7e31-453e-8a07-261afac1bd20",
   "metadata": {},
   "outputs": [],
   "source": [
    "import duckdb\n",
    "duckdb.__version__"
   ]
  },
  {
   "cell_type": "markdown",
   "id": "026842f8-437c-4397-900e-e84b502228e8",
   "metadata": {
    "jp-MarkdownHeadingCollapsed": true
   },
   "source": [
    "## 🦆 DuckDB Setup"
   ]
  },
  {
   "cell_type": "code",
   "execution_count": null,
   "id": "0c8dece6-b41d-40d9-946b-1090c794f3c6",
   "metadata": {},
   "outputs": [],
   "source": [
    "import duckdb"
   ]
  },
  {
   "cell_type": "code",
   "execution_count": null,
   "id": "5191f9e1-863f-487f-b009-6ac490d5b378",
   "metadata": {},
   "outputs": [],
   "source": [
    "!pip install duckdb-engine -q"
   ]
  },
  {
   "cell_type": "code",
   "execution_count": null,
   "id": "a507eb8a-5599-4d01-95d1-0949d168f82b",
   "metadata": {},
   "outputs": [],
   "source": [
    "from sqlalchemy import Column, Integer, Sequence, String, create_engine\n",
    "\n",
    "uri = 'duckdb:///../ddb/duckdb-course/nba.duckdb'\n",
    "    \n",
    "connect_args = {\n",
    "        'read_only': True\n",
    "    }\n",
    "\n",
    "CONN = create_engine(uri)\n"
   ]
  },
  {
   "cell_type": "code",
   "execution_count": null,
   "id": "07330c32-1d43-48fd-a3dc-afb44ccd26c6",
   "metadata": {},
   "outputs": [],
   "source": [
    "con = duckdb.connect('../ddb/duckdb-course/nba.duckdb')"
   ]
  },
  {
   "cell_type": "code",
   "execution_count": null,
   "id": "723fb59d-7a40-43c6-aa5e-585c3565c7c9",
   "metadata": {},
   "outputs": [],
   "source": [
    "con.query('describe nba;')"
   ]
  },
  {
   "cell_type": "code",
   "execution_count": null,
   "id": "3a97d842-9227-42e1-a4c8-c3cf21385ca5",
   "metadata": {},
   "outputs": [],
   "source": [
    "con.query('from nba limit 1').df()"
   ]
  },
  {
   "cell_type": "markdown",
   "id": "79316ecf-37fc-421f-9018-d953ab432ffa",
   "metadata": {
    "jp-MarkdownHeadingCollapsed": true
   },
   "source": [
    "# Create a modified table if needed"
   ]
  },
  {
   "cell_type": "code",
   "execution_count": null,
   "id": "8a254db1-51ca-4161-8b51-1bad3c8c4f49",
   "metadata": {
    "scrolled": true
   },
   "outputs": [],
   "source": [
    "con.query('''create table nba_short as select * exclude(column00, \"Unnamed: 0.1\", \"Unnamed: 0\") from nba    ;''')"
   ]
  },
  {
   "cell_type": "code",
   "execution_count": null,
   "id": "9967194c-6a81-41ba-b7d1-ccc9a948a3f5",
   "metadata": {},
   "outputs": [],
   "source": [
    "con.query('alter table nba_short add column match_date date')"
   ]
  },
  {
   "cell_type": "code",
   "execution_count": null,
   "id": "2b41592f-09a0-434b-9645-bf0b00284a9e",
   "metadata": {},
   "outputs": [],
   "source": [
    "con.query('''update nba_short set match_date = strptime(left(match_id, 8), '%Y%m%d')''')"
   ]
  },
  {
   "cell_type": "markdown",
   "id": "22ca76db-bc17-4c31-b2e8-09177a1148f1",
   "metadata": {},
   "source": [
    "# Set up LangChain "
   ]
  },
  {
   "cell_type": "code",
   "execution_count": null,
   "id": "04f4e9a6-35bd-4c1d-97f9-1248f6b7276b",
   "metadata": {},
   "outputs": [],
   "source": [
    "db = SQLDatabase.from_uri(\n",
    "    uri,\n",
    "    include_tables=['nba_short'], \n",
    "\tsample_rows_in_table_info=3)"
   ]
  },
  {
   "cell_type": "code",
   "execution_count": null,
   "id": "10e29f2b-ebd5-4e04-9586-890e1fa315ac",
   "metadata": {},
   "outputs": [],
   "source": [
    "toolkit = SQLDatabaseToolkit(db=db, llm=OpenAI(temperature=0))"
   ]
  },
  {
   "cell_type": "code",
   "execution_count": null,
   "id": "2cabc50d-a215-4f94-accb-42e91f233309",
   "metadata": {},
   "outputs": [],
   "source": [
    "agent_executor = create_sql_agent(\n",
    "    llm=OpenAI(temperature=0),\n",
    "    toolkit=toolkit,\n",
    "    verbose=True,\n",
    "    agent_type=AgentType.ZERO_SHOT_REACT_DESCRIPTION,\n",
    ")"
   ]
  },
  {
   "cell_type": "code",
   "execution_count": null,
   "id": "89c774a9-5e35-4535-aebb-21c4c8080a75",
   "metadata": {},
   "outputs": [],
   "source": [
    "template = \"\"\"/\n",
    "You are a SQL Analyst that is querying a database of NBA shots that record data about every shot taken in the NBA.\n",
    "\n",
    "Below is a description of the columns, data types, and information in the columns:\n",
    "\n",
    "The column name match_id with the data type VARCHAR contains the following information: Unique identifier for every match or game\n",
    "The column name shots with the data type DOUBLE PRECISION contains the following information: Location on the court on the X axis\n",
    "The column name shotY with the data type DOUBLE PRECISION contains the following information: Location on the court on the Y axis\n",
    "The column name quarter with the data type VARCHAR contains the following information: Quarter of the game out of 4 when the shot was taken\n",
    "The column name time_remaining with the data type VARCHAR contains the following information: Amount of time remaining in the game in which the shot was taken\n",
    "The column name player with the data type VARCHAR contains the following information: Full name of the player taking the shot\n",
    "The column name team with the data type VARCHAR contains the following information: Team name abbreviation of the team of the player taking the shot\n",
    "The column name made with the data type BOOLEAN contains the following information: Boolean that represents if the shot was made or not\n",
    "The column name shot_type with the data type VARCHAR contains the following information: Description of the type of shot taken\n",
    "The column name distance with the data type VARCHAR contains the following information: Distance in feet of the shot from the basket (0 is a dunk)\n",
    "The column name score with the data type VARCHAR contains the following information: Score of the game after the shot was taken\n",
    "The column name opp with the data type VARCHAR contains the following information: Opponent team of the player taking the shot\n",
    "The column name status with the data type VARCHAR contains the following information: Text description of the score status of the game\n",
    "The column name match_date with the data type VARCHAR contains the following information: Date the match or game took place\n",
    "\n",
    "Your job is to write an execute a query that answers the following question:\n",
    "{query}\n",
    "\"\"\"\n",
    "\n",
    "prompt = PromptTemplate.from_template(template)\n",
    "\n",
    "agent_executor.run(\n",
    "    prompt.format(query = \"Who scored the most 3-pointers in 2015 with at least 100 shots attempted?\")\n",
    ")"
   ]
  },
  {
   "cell_type": "markdown",
   "id": "e107ddc2-0a48-482d-9e31-f1c06717cae1",
   "metadata": {},
   "source": [
    "# Let's try it with spatial data"
   ]
  },
  {
   "cell_type": "code",
   "execution_count": null,
   "id": "f1c800a5-76cd-46d6-8b3d-8fe1d0fdf2f4",
   "metadata": {},
   "outputs": [],
   "source": [
    "con.query(''' install spatial ''')"
   ]
  },
  {
   "cell_type": "code",
   "execution_count": null,
   "id": "d1af63d3-8124-4413-91d6-e5498340a777",
   "metadata": {},
   "outputs": [],
   "source": [
    "con.query(''' load spatial ''')"
   ]
  },
  {
   "cell_type": "code",
   "execution_count": null,
   "id": "27b63c2f-72bb-4546-975a-c0a57a559ef2",
   "metadata": {},
   "outputs": [],
   "source": [
    "con.query(''' create or replace table nyc_311 as select * exclude('Incident Zip') from '../ddb/duckdb-course/spatial/nyc_311.csv';\n",
    " ''')"
   ]
  },
  {
   "cell_type": "code",
   "execution_count": null,
   "id": "d5837f98-7d39-4729-939b-c8c9cc3891c0",
   "metadata": {},
   "outputs": [],
   "source": [
    "con.query('alter table nyc_311 add column geom geometry;')"
   ]
  },
  {
   "cell_type": "code",
   "execution_count": null,
   "id": "2ecb5ec4-22bc-465b-a9a5-578b93af4da7",
   "metadata": {},
   "outputs": [],
   "source": [
    "con.query('update nyc_311 set geom = st_point(Longitude, Latitude);')"
   ]
  },
  {
   "cell_type": "code",
   "execution_count": null,
   "id": "5992d6b8-0804-47e6-8b9f-95b28078e4ea",
   "metadata": {},
   "outputs": [],
   "source": [
    "con.query('''\n",
    "create or replace table nyc_nh as\n",
    "select *, st_geomfromwkb(wkb_geometry) as geom from st_read('../ddb/duckdb-course/spatial/nyc_hoods.geojson');\n",
    "''')"
   ]
  },
  {
   "cell_type": "code",
   "execution_count": null,
   "id": "56de6efd-bdd2-4850-8578-2492bfefea5f",
   "metadata": {},
   "outputs": [],
   "source": [
    "con.query('''\n",
    "create or replace table nyc_311_s as \n",
    "select \"Created Date\",\n",
    "\"Agency Name\",\n",
    "\"Complaint Type\", \n",
    "\"Descriptor\", \n",
    "\"Incident Address\",\n",
    "geom\n",
    "from nyc_311\n",
    "''')"
   ]
  },
  {
   "cell_type": "code",
   "execution_count": null,
   "id": "cf62e5e7-4a1b-438e-a7b3-9828c5cbbdb2",
   "metadata": {},
   "outputs": [],
   "source": [
    "sdb = SQLDatabase.from_uri(\n",
    "    uri,\n",
    "    include_tables=['nyc_311_s', 'nyc_nh'], \n",
    "\tsample_rows_in_table_info=3)"
   ]
  },
  {
   "cell_type": "code",
   "execution_count": null,
   "id": "5bcd40b7-2160-48b1-80c4-6e857f26ced2",
   "metadata": {},
   "outputs": [],
   "source": [
    "toolkit = SQLDatabaseToolkit(db=sdb, llm=OpenAI(temperature=0))"
   ]
  },
  {
   "cell_type": "code",
   "execution_count": null,
   "id": "33c3a864-5f35-4bd3-bbfd-cbe7faa7aeb2",
   "metadata": {},
   "outputs": [],
   "source": [
    "agent_executor_spatial = create_sql_agent(\n",
    "    llm=OpenAI(temperature=0),\n",
    "    toolkit=toolkit,\n",
    "    verbose=True,\n",
    "    agent_type=AgentType.ZERO_SHOT_REACT_DESCRIPTION,\n",
    ")"
   ]
  },
  {
   "cell_type": "code",
   "execution_count": null,
   "id": "1db2efec-3f41-424c-89d9-d61aeb3021b2",
   "metadata": {},
   "outputs": [],
   "source": [
    "template = \"\"\"/\n",
    "You are a SQL Analyst that is querying a database that contains two tables: One of 311 calls in New York City and New York Neighborhoods.\n",
    "\n",
    "Both columns have a geometry which can be used to perform spatial joins using spatial functions commonly found in PostGIS.\n",
    "\n",
    "Your job is to write an execute a query that answers the following question:\n",
    "{query}\n",
    "\"\"\"\n",
    "\n",
    "prompt = PromptTemplate.from_template(template)\n",
    "\n",
    "agent_executor_spatial.run(\n",
    "    prompt.format(query = \"How many 311 calls about graffiti took place in the West Village?\")\n",
    ")"
   ]
  },
  {
   "cell_type": "code",
   "execution_count": null,
   "id": "eff46c4f-2eaa-4278-afea-dad6ad0eb9f7",
   "metadata": {},
   "outputs": [],
   "source": []
  }
 ],
 "metadata": {
  "kernelspec": {
   "display_name": "Python 3 (ipykernel)",
   "language": "python",
   "name": "python3"
  },
  "language_info": {
   "codemirror_mode": {
    "name": "ipython",
    "version": 3
   },
   "file_extension": ".py",
   "mimetype": "text/x-python",
   "name": "python",
   "nbconvert_exporter": "python",
   "pygments_lexer": "ipython3",
   "version": "3.11.4"
  }
 },
 "nbformat": 4,
 "nbformat_minor": 5
}
